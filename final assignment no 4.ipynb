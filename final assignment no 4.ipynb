{
 "cells": [
  {
   "cell_type": "markdown",
   "id": "a1056517",
   "metadata": {},
   "source": [
    "# Assignment No 4"
   ]
  },
  {
   "cell_type": "code",
   "execution_count": 91,
   "id": "18a0b904",
   "metadata": {},
   "outputs": [],
   "source": [
    "X = np.array([[1,1],[1,2],[2,1],[1,3],[3,1],[6,5],[5,6],[7,6]])\n",
    "Y = np.array([0,0,0,0,1,1,1,1])"
   ]
  },
  {
   "cell_type": "code",
   "execution_count": 92,
   "id": "3437e34b",
   "metadata": {},
   "outputs": [],
   "source": [
    "w =np.random.rand(2)\n",
    "b = np.random.rand(1)"
   ]
  },
  {
   "cell_type": "code",
   "execution_count": 93,
   "id": "fb55b6ee",
   "metadata": {},
   "outputs": [],
   "source": [
    "def train(X,Y,w,b,lr,epochs):\n",
    "    errors = []\n",
    "    for e in range(epochs):\n",
    "        error = 0\n",
    "        for x , y in zip(X,Y):\n",
    "            activation = np.dot(x,w)+b\n",
    "            \n",
    "            if(activation>=0):\n",
    "                prediction=1\n",
    "            else:\n",
    "                prediction=0\n",
    "            \n",
    "            delta = lr*(y-prediction)\n",
    "            w += delta*x\n",
    "            b += delta\n",
    "            \n",
    "            error += int(delta!=0)\n",
    "        errors.append(error)\n",
    "        if error == 0:\n",
    "            break\n",
    "    return w , b ,errors"
   ]
  },
  {
   "cell_type": "code",
   "execution_count": null,
   "id": "802854f2",
   "metadata": {},
   "outputs": [],
   "source": []
  },
  {
   "cell_type": "code",
   "execution_count": 98,
   "id": "112d97b7",
   "metadata": {},
   "outputs": [],
   "source": [
    "lr = 0.2\n",
    "epochs = 1000\n",
    "w,b,errors = train(X,Y,w,b,lr,100)"
   ]
  },
  {
   "cell_type": "code",
   "execution_count": 99,
   "id": "e8a60ae2",
   "metadata": {},
   "outputs": [
    {
     "data": {
      "text/plain": [
       "array([ 1.12906362, -0.27814063])"
      ]
     },
     "execution_count": 99,
     "metadata": {},
     "output_type": "execute_result"
    }
   ],
   "source": [
    "w"
   ]
  },
  {
   "cell_type": "code",
   "execution_count": 100,
   "id": "c5a3eb42",
   "metadata": {},
   "outputs": [
    {
     "data": {
      "text/plain": [
       "array([-2.2250518])"
      ]
     },
     "execution_count": 100,
     "metadata": {},
     "output_type": "execute_result"
    }
   ],
   "source": [
    "b"
   ]
  },
  {
   "cell_type": "code",
   "execution_count": 101,
   "id": "1aab03fc",
   "metadata": {},
   "outputs": [
    {
     "data": {
      "text/plain": [
       "[0]"
      ]
     },
     "execution_count": 101,
     "metadata": {},
     "output_type": "execute_result"
    }
   ],
   "source": [
    "errors"
   ]
  },
  {
   "cell_type": "code",
   "execution_count": 102,
   "id": "4d05a5eb",
   "metadata": {},
   "outputs": [
    {
     "data": {
      "text/plain": [
       "<matplotlib.collections.PathCollection at 0x1aab2f68e80>"
      ]
     },
     "execution_count": 102,
     "metadata": {},
     "output_type": "execute_result"
    },
    {
     "data": {
      "image/png": "[encoded data removed]",
      "text/plain": [
       "<Figure size 640x480 with 1 Axes>"
      ]
     },
     "metadata": {},
     "output_type": "display_data"
    }
   ],
   "source": [
    "import matplotlib.pyplot as plt\n",
    "plt.scatter(X[:, 0], X[:, 1], c=Y, cmap='bwr')\n"
   ]
  },
  {
   "cell_type": "code",
   "execution_count": null,
   "id": "284dbb99",
   "metadata": {},
   "outputs": [],
   "source": []
  },
  {
   "cell_type": "code",
   "execution_count": null,
   "id": "20a716da",
   "metadata": {},
   "outputs": [],
   "source": []
  },
  {
   "cell_type": "code",
   "execution_count": null,
   "id": "f5f6b00d",
   "metadata": {},
   "outputs": [],
   "source": []
  },
  {
   "cell_type": "code",
   "execution_count": null,
   "id": "a1f83102",
   "metadata": {},
   "outputs": [],
   "source": []
  }
 ],
 "metadata": {
  "kernelspec": {
   "display_name": "Python 3 (ipykernel)",
   "language": "python",
   "name": "python3"
  },
  "language_info": {
   "codemirror_mode": {
    "name": "ipython",
    "version": 3
   },
   "file_extension": ".py",
   "mimetype": "text/x-python",
   "name": "python",
   "nbconvert_exporter": "python",
   "pygments_lexer": "ipython3",
   "version": "3.10.9"
  }
 },
 "nbformat": 4,
 "nbformat_minor": 5
}
