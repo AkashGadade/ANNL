{
 "cells": [
  {
   "cell_type": "code",
   "execution_count": 1,
   "id": "e47abe33",
   "metadata": {},
   "outputs": [],
   "source": [
    "import numpy as np\n",
    "import pandas as pd"
   ]
  },
  {
   "cell_type": "code",
   "execution_count": 39,
   "id": "9ec37a12",
   "metadata": {},
   "outputs": [],
   "source": [
    "VP = 0.4\n",
    "LR = 0.2\n",
    "\n",
    "n = 4\n",
    "m = 3\n",
    "\n",
    "b = np.array([[1/(1+n) for i in range(m) ] for j  in range(n) ])\n",
    "\n",
    "#b = np.array([[0.2, 0.5, 0.9], [0.6, 0.2, 0.5], [0.1, 0.4, 0.7], [0.8, 0.4, 0.2]])\n",
    "\n",
    "t =  np.array([[1 for i in range(n)] for j in range(m)])"
   ]
  },
  {
   "cell_type": "code",
   "execution_count": 40,
   "id": "88dfa717",
   "metadata": {},
   "outputs": [
    {
     "data": {
      "text/plain": [
       "array([[0.2, 0.2, 0.2],\n",
       "       [0.2, 0.2, 0.2],\n",
       "       [0.2, 0.2, 0.2],\n",
       "       [0.2, 0.2, 0.2]])"
      ]
     },
     "execution_count": 40,
     "metadata": {},
     "output_type": "execute_result"
    }
   ],
   "source": [
    "b"
   ]
  },
  {
   "cell_type": "code",
   "execution_count": 41,
   "id": "503109d1",
   "metadata": {},
   "outputs": [
    {
     "data": {
      "text/plain": [
       "array([[1, 1, 1, 1],\n",
       "       [1, 1, 1, 1],\n",
       "       [1, 1, 1, 1]])"
      ]
     },
     "execution_count": 41,
     "metadata": {},
     "output_type": "execute_result"
    }
   ],
   "source": [
    "t"
   ]
  },
  {
   "cell_type": "code",
   "execution_count": 42,
   "id": "848f2747",
   "metadata": {},
   "outputs": [],
   "source": [
    "def network(inputs,b,t,epochs):\n",
    "    \n",
    "    B = b\n",
    "    T = t\n",
    "    \n",
    "    for e in range(epochs):\n",
    "    \n",
    "        \n",
    "        for ip in inputs:\n",
    "            inp = ip\n",
    "            sum_of_input = sum(inp)\n",
    "        \n",
    "            y1 = np.dot(B[:,0],inp)\n",
    "            y2 = np.dot(B[:,1],inp)\n",
    "            y3 = np.dot(B[:,2],inp)\n",
    "        \n",
    "            yarray = np.array([y1,y2,y3])\n",
    "            J = np.argmax(yarray)\n",
    "        \n",
    "            xi = inp * t[1,:]\n",
    "        \n",
    "            norm_of_xi = np.sum(xi)\n",
    "        \n",
    "            if(norm_of_xi/sum_of_input) > VP:\n",
    "            \n",
    "                for i in range(4):\n",
    "                    B[i][J] = (LR*xi[i])/(LR-1+norm_of_xi)\n",
    "                    T[J][i] = b[i][J]\n",
    "        \n",
    "        \n",
    "            \n",
    "    \n",
    "    return B,T\n",
    "                \n",
    "        \n",
    "        \n",
    "        "
   ]
  },
  {
   "cell_type": "code",
   "execution_count": 43,
   "id": "7169ac98",
   "metadata": {},
   "outputs": [],
   "source": [
    "def test(inputs,B):\n",
    "    cluster =[]\n",
    "    for ip in inputs:\n",
    "            inp = ip\n",
    "            sum_of_input = sum(inp)\n",
    "        \n",
    "            y1 = np.dot(B[:,0],inp)\n",
    "            y2 = np.dot(B[:,1],inp)\n",
    "            y3 = np.dot(B[:,2],inp)\n",
    "        \n",
    "            yarray = np.array([y1,y2,y3])\n",
    "            J = np.argmax(yarray)\n",
    "            cluster.append(J)\n",
    "    return cluster"
   ]
  },
  {
   "cell_type": "code",
   "execution_count": 44,
   "id": "59521ea7",
   "metadata": {},
   "outputs": [],
   "source": [
    "inputs = np.array([[0,0,0,1],[0,0,1,0],[0,0,1,1],[0,1,0,0],[0,1,0,1],[0,1,1,0],[0,1,1,1],[1,0,0,0],[1,0,0,1],[1,0,1,0]])"
   ]
  },
  {
   "cell_type": "code",
   "execution_count": 45,
   "id": "6ea760bf",
   "metadata": {},
   "outputs": [
    {
     "data": {
      "text/plain": [
       "array([[0, 0, 0, 1],\n",
       "       [0, 0, 1, 0],\n",
       "       [0, 0, 1, 1],\n",
       "       [0, 1, 0, 0],\n",
       "       [0, 1, 0, 1],\n",
       "       [0, 1, 1, 0],\n",
       "       [0, 1, 1, 1],\n",
       "       [1, 0, 0, 0],\n",
       "       [1, 0, 0, 1],\n",
       "       [1, 0, 1, 0]])"
      ]
     },
     "execution_count": 45,
     "metadata": {},
     "output_type": "execute_result"
    }
   ],
   "source": [
    "inputs"
   ]
  },
  {
   "cell_type": "code",
   "execution_count": 46,
   "id": "7849d080",
   "metadata": {},
   "outputs": [],
   "source": [
    "trained_b ,trained_t = network(inputs,b,t,56)"
   ]
  },
  {
   "cell_type": "code",
   "execution_count": 47,
   "id": "193d7c39",
   "metadata": {},
   "outputs": [
    {
     "data": {
      "text/plain": [
       "array([[0. , 0. , 0.2],\n",
       "       [0. , 0. , 0.2],\n",
       "       [1. , 1. , 0.2],\n",
       "       [0. , 0. , 0.2]])"
      ]
     },
     "execution_count": 47,
     "metadata": {},
     "output_type": "execute_result"
    }
   ],
   "source": [
    "trained_b"
   ]
  },
  {
   "cell_type": "code",
   "execution_count": 48,
   "id": "7204227a",
   "metadata": {},
   "outputs": [
    {
     "data": {
      "text/plain": [
       "[2, 0, 0, 2, 2, 0, 0, 2, 2, 0]"
      ]
     },
     "execution_count": 48,
     "metadata": {},
     "output_type": "execute_result"
    }
   ],
   "source": [
    "test(inputs,trained_b)"
   ]
  },
  {
   "cell_type": "code",
   "execution_count": 49,
   "id": "c556f976",
   "metadata": {},
   "outputs": [
    {
     "data": {
      "text/plain": [
       "[2, 0, 2, 0, 0, 2, 2, 0, 0, 2]"
      ]
     },
     "execution_count": 49,
     "metadata": {},
     "output_type": "execute_result"
    }
   ],
   "source": [
    "inputss = np.array([[0,1,0,1],[0,1,1,0],[0,0,0,1],[0,0,1,0],[0,1,1,1],[1,0,0,0],[1,0,0,1],[1,0,1,0],[0,0,1,1],[0,1,0,0]])\n",
    "test(inputss,trained_b)"
   ]
  },
  {
   "cell_type": "code",
   "execution_count": 50,
   "id": "4df126bc",
   "metadata": {},
   "outputs": [
    {
     "data": {
      "text/plain": [
       "[2, 0, 2, 0, 0, 2, 2, 0, 0, 2]"
      ]
     },
     "execution_count": 50,
     "metadata": {},
     "output_type": "execute_result"
    }
   ],
   "source": [
    "inputss = np.array([[0,1,0,1],[0,1,1,0],[0,0,0,1],[0,0,1,0],[0,1,1,1],[1,0,0,0],[1,0,0,1],[1,0,1,0],[0,0,1,1],[0,1,0,0]])\n",
    "trained_b ,trained_t = network(inputss,b,t,56)\n",
    "test(inputss,trained_b)"
   ]
  },
  {
   "cell_type": "code",
   "execution_count": 51,
   "id": "fb9dfd90",
   "metadata": {},
   "outputs": [
    {
     "data": {
      "text/plain": [
       "array([[0. , 0. , 0.2],\n",
       "       [0. , 0. , 0.2],\n",
       "       [1. , 1. , 0.2],\n",
       "       [0. , 0. , 0.2]])"
      ]
     },
     "execution_count": 51,
     "metadata": {},
     "output_type": "execute_result"
    }
   ],
   "source": [
    "trained_b"
   ]
  },
  {
   "cell_type": "code",
   "execution_count": null,
   "id": "c36587ab",
   "metadata": {},
   "outputs": [],
   "source": [
    "\n",
    "\n"
   ]
  },
  {
   "cell_type": "code",
   "execution_count": null,
   "id": "ec84000e",
   "metadata": {},
   "outputs": [],
   "source": []
  }
 ],
 "metadata": {
  "kernelspec": {
   "display_name": "Python 3 (ipykernel)",
   "language": "python",
   "name": "python3"
  },
  "language_info": {
   "codemirror_mode": {
    "name": "ipython",
    "version": 3
   },
   "file_extension": ".py",
   "mimetype": "text/x-python",
   "name": "python",
   "nbconvert_exporter": "python",
   "pygments_lexer": "ipython3",
   "version": "3.10.9"
  }
 },
 "nbformat": 4,
 "nbformat_minor": 5
}
