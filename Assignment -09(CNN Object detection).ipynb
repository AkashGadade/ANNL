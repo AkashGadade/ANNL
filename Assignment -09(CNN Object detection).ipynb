{
 "cells": [
  {
   "cell_type": "code",
   "execution_count": 1,
   "id": "85259b53",
   "metadata": {},
   "outputs": [
    {
     "name": "stderr",
     "output_type": "stream",
     "text": [
      "2023-05-22 09:16:39.953118: I tensorflow/core/platform/cpu_feature_guard.cc:193] This TensorFlow binary is optimized with oneAPI Deep Neural Network Library (oneDNN) to use the following CPU instructions in performance-critical operations:  AVX2 AVX512F AVX512_VNNI FMA\n",
      "To enable them in other operations, rebuild TensorFlow with the appropriate compiler flags.\n",
      "2023-05-22 09:16:40.169424: I tensorflow/core/util/port.cc:104] oneDNN custom operations are on. You may see slightly different numerical results due to floating-point round-off errors from different computation orders. To turn them off, set the environment variable `TF_ENABLE_ONEDNN_OPTS=0`.\n",
      "2023-05-22 09:16:40.213088: W tensorflow/compiler/xla/stream_executor/platform/default/dso_loader.cc:64] Could not load dynamic library 'libcudart.so.11.0'; dlerror: libcudart.so.11.0: cannot open shared object file: No such file or directory\n",
      "2023-05-22 09:16:40.213102: I tensorflow/compiler/xla/stream_executor/cuda/cudart_stub.cc:29] Ignore above cudart dlerror if you do not have a GPU set up on your machine.\n",
      "2023-05-22 09:16:41.249277: W tensorflow/compiler/xla/stream_executor/platform/default/dso_loader.cc:64] Could not load dynamic library 'libnvinfer.so.7'; dlerror: libnvinfer.so.7: cannot open shared object file: No such file or directory\n",
      "2023-05-22 09:16:41.249333: W tensorflow/compiler/xla/stream_executor/platform/default/dso_loader.cc:64] Could not load dynamic library 'libnvinfer_plugin.so.7'; dlerror: libnvinfer_plugin.so.7: cannot open shared object file: No such file or directory\n",
      "2023-05-22 09:16:41.249339: W tensorflow/compiler/tf2tensorrt/utils/py_utils.cc:38] TF-TRT Warning: Cannot dlopen some TensorRT libraries. If you would like to use Nvidia GPU with TensorRT, please make sure the missing libraries mentioned above are installed properly.\n"
     ]
    }
   ],
   "source": [
    "import tensorflow as tf\n",
    "from tensorflow.keras.datasets import cifar10\n",
    "from tensorflow.keras.models import Sequential\n",
    "from tensorflow.keras.layers import Conv2D, MaxPooling2D, Flatten, Dense\n",
    "from tensorflow.keras.optimizers import Adam\n",
    "from sklearn.metrics import classification_report, confusion_matrix\n",
    "import numpy as np\n",
    "import matplotlib.pyplot as plt\n",
    "\n"
   ]
  },
  {
   "cell_type": "code",
   "execution_count": 2,
   "id": "195c519c",
   "metadata": {},
   "outputs": [
    {
     "name": "stderr",
     "output_type": "stream",
     "text": [
      "2023-05-22 09:16:44.738300: W tensorflow/compiler/xla/stream_executor/platform/default/dso_loader.cc:64] Could not load dynamic library 'libcuda.so.1'; dlerror: libcuda.so.1: cannot open shared object file: No such file or directory\n",
      "2023-05-22 09:16:44.738321: W tensorflow/compiler/xla/stream_executor/cuda/cuda_driver.cc:265] failed call to cuInit: UNKNOWN ERROR (303)\n",
      "2023-05-22 09:16:44.738339: I tensorflow/compiler/xla/stream_executor/cuda/cuda_diagnostics.cc:156] kernel driver does not appear to be running on this host (Windows): /proc/driver/nvidia/version does not exist\n",
      "2023-05-22 09:16:44.738533: I tensorflow/core/platform/cpu_feature_guard.cc:193] This TensorFlow binary is optimized with oneAPI Deep Neural Network Library (oneDNN) to use the following CPU instructions in performance-critical operations:  AVX2 AVX512F AVX512_VNNI FMA\n",
      "To enable them in other operations, rebuild TensorFlow with the appropriate compiler flags.\n"
     ]
    },
    {
     "name": "stdout",
     "output_type": "stream",
     "text": [
      "Epoch 1/10\n",
      "782/782 [==============================] - 12s 14ms/step - loss: 1.6711 - accuracy: 0.4000 - val_loss: 1.4333 - val_accuracy: 0.4767\n",
      "Epoch 2/10\n",
      "782/782 [==============================] - 11s 14ms/step - loss: 1.3262 - accuracy: 0.5299 - val_loss: 1.2725 - val_accuracy: 0.5478\n",
      "Epoch 3/10\n",
      "782/782 [==============================] - 10s 12ms/step - loss: 1.2128 - accuracy: 0.5723 - val_loss: 1.2064 - val_accuracy: 0.5741\n",
      "Epoch 4/10\n",
      "782/782 [==============================] - 10s 12ms/step - loss: 1.1398 - accuracy: 0.6000 - val_loss: 1.1795 - val_accuracy: 0.5802\n",
      "Epoch 5/10\n",
      "782/782 [==============================] - 10s 12ms/step - loss: 1.0818 - accuracy: 0.6221 - val_loss: 1.1700 - val_accuracy: 0.5885\n",
      "Epoch 6/10\n",
      "782/782 [==============================] - 10s 12ms/step - loss: 1.0350 - accuracy: 0.6380 - val_loss: 1.1753 - val_accuracy: 0.5941\n",
      "Epoch 7/10\n",
      "782/782 [==============================] - 10s 13ms/step - loss: 1.0007 - accuracy: 0.6517 - val_loss: 1.0751 - val_accuracy: 0.6307\n",
      "Epoch 8/10\n",
      "782/782 [==============================] - 10s 13ms/step - loss: 0.9628 - accuracy: 0.6620 - val_loss: 1.0650 - val_accuracy: 0.6280\n",
      "Epoch 9/10\n",
      "782/782 [==============================] - 10s 12ms/step - loss: 0.9321 - accuracy: 0.6755 - val_loss: 1.0811 - val_accuracy: 0.6208\n",
      "Epoch 10/10\n",
      "782/782 [==============================] - 10s 12ms/step - loss: 0.9078 - accuracy: 0.6839 - val_loss: 1.0788 - val_accuracy: 0.6266\n"
     ]
    },
    {
     "data": {
      "text/plain": [
       "<keras.callbacks.History at 0x7f2f5fe39d20>"
      ]
     },
     "execution_count": 2,
     "metadata": {},
     "output_type": "execute_result"
    }
   ],
   "source": [
    "# Load CIFAR-10 dataset\n",
    "(x_train, y_train), (x_test, y_test) = cifar10.load_data()\n",
    "\n",
    "# Preprocess the data\n",
    "x_train = x_train.astype('float32') / 255.0\n",
    "x_test = x_test.astype('float32') / 255.0\n",
    "\n",
    "# Convert class labels to one-hot encoded vectors\n",
    "y_train = tf.keras.utils.to_categorical(y_train, num_classes=10)\n",
    "y_test = tf.keras.utils.to_categorical(y_test, num_classes=10)\n",
    "\n",
    "# Define the CNN architecture\n",
    "model = Sequential()\n",
    "model.add(Conv2D(32, kernel_size=(3, 3), activation='relu', input_shape=(32, 32, 3)))\n",
    "model.add(MaxPooling2D(pool_size=(2, 2)))\n",
    "model.add(Flatten())\n",
    "model.add(Dense(64, activation='relu'))\n",
    "model.add(Dense(10, activation='softmax'))\n",
    "\n",
    "# Compile the model\n",
    "model.compile(optimizer=Adam(), loss='categorical_crossentropy', metrics=['accuracy'])\n",
    "\n",
    "# Train the model\n",
    "model.fit(x_train, y_train, batch_size=64, epochs=10, validation_data=(x_test, y_test))\n"
   ]
  },
  {
   "cell_type": "code",
   "execution_count": 4,
   "id": "5111f419",
   "metadata": {},
   "outputs": [
    {
     "name": "stdout",
     "output_type": "stream",
     "text": [
      "1/1 [==============================] - 0s 65ms/step\n"
     ]
    }
   ],
   "source": [
    "\n",
    "# Select a random test image\n",
    "index = np.random.randint(0, len(x_test))\n",
    "test_image = x_test[index]\n",
    "test_label = y_test[index]\n",
    "\n",
    "# Reshape the image to match the input shape of the model\n",
    "test_image = np.expand_dims(test_image, axis=0)\n",
    "\n",
    "# Perform prediction for the test image\n",
    "prediction = model.predict(test_image)\n",
    "predicted_class = np.argmax(prediction)\n"
   ]
  },
  {
   "cell_type": "code",
   "execution_count": 5,
   "id": "51fb1459",
   "metadata": {},
   "outputs": [
    {
     "data": {
      "image/png": "[encoded data removed]",
      "text/plain": [
       "<Figure size 640x480 with 1 Axes>"
      ]
     },
     "metadata": {},
     "output_type": "display_data"
    }
   ],
   "source": [
    "\n",
    "# Display the test image and the predicted class\n",
    "plt.imshow(test_image.squeeze())\n",
    "plt.title(\"Predicted Class: {}\".format(predicted_class))\n",
    "plt.axis('off')\n",
    "plt.show()\n"
   ]
  },
  {
   "cell_type": "code",
   "execution_count": 6,
   "id": "a9c79492",
   "metadata": {},
   "outputs": [
    {
     "name": "stdout",
     "output_type": "stream",
     "text": [
      "313/313 [==============================] - 1s 2ms/step\n",
      "              precision    recall  f1-score   support\n",
      "\n",
      "           0       0.72      0.67      0.69      1000\n",
      "           1       0.84      0.70      0.76      1000\n",
      "           2       0.58      0.40      0.47      1000\n",
      "           3       0.44      0.49      0.47      1000\n",
      "           4       0.56      0.61      0.59      1000\n",
      "           5       0.52      0.62      0.56      1000\n",
      "           6       0.76      0.71      0.73      1000\n",
      "           7       0.69      0.72      0.71      1000\n",
      "           8       0.74      0.78      0.76      1000\n",
      "           9       0.70      0.77      0.74      1000\n",
      "\n",
      "    accuracy                           0.65     10000\n",
      "   macro avg       0.65      0.65      0.65     10000\n",
      "weighted avg       0.65      0.65      0.65     10000\n",
      "\n",
      "[[668  18  52  34  19  11  11  23 110  54]\n",
      " [ 21 703  13  21   3  10  11  12  54 152]\n",
      " [ 81   3 396 101 147 121  60  55  22  14]\n",
      " [ 11   6  49 495  80 226  56  38  15  24]\n",
      " [ 25   4  63  95 612  54  46  81  16   4]\n",
      " [ 11   3  35 171  62 619  27  57   8   7]\n",
      " [  5   6  31  95  89  37 713  10   7   7]\n",
      " [ 10   3  30  59  61  97   3 717   5  15]\n",
      " [ 65  39   6  25   6  15   9   7 775  53]\n",
      " [ 34  55   8  30  10   8   8  33  40 774]]\n"
     ]
    }
   ],
   "source": [
    "\n",
    "# Evaluate the model\n",
    "y_pred = model.predict(x_test)\n",
    "y_pred_classes = np.argmax(y_pred, axis=1)\n",
    "y_true = np.argmax(y_test, axis=1)\n",
    "\n",
    "# Classification report\n",
    "print(classification_report(y_true, y_pred_classes))\n",
    "\n",
    "# Confusion matrix\n",
    "confusion_mtx = confusion_matrix(y_true, y_pred_classes)\n",
    "print(confusion_mtx)\n"
   ]
  },
  {
   "cell_type": "code",
   "execution_count": 7,
   "id": "99e55cb3",
   "metadata": {},
   "outputs": [],
   "source": [
    "#Learn HOW to read Confusion MATRIX"
   ]
  },
  {
   "cell_type": "code",
   "execution_count": null,
   "id": "76d49a88",
   "metadata": {},
   "outputs": [],
   "source": []
  }
 ],
 "metadata": {
  "kernelspec": {
   "display_name": "Python 3 (ipykernel)",
   "language": "python",
   "name": "python3"
  },
  "language_info": {
   "codemirror_mode": {
    "name": "ipython",
    "version": 3
   },
   "file_extension": ".py",
   "mimetype": "text/x-python",
   "name": "python",
   "nbconvert_exporter": "python",
   "pygments_lexer": "ipython3",
   "version": "3.10.9"
  }
 },
 "nbformat": 4,
 "nbformat_minor": 5
}
