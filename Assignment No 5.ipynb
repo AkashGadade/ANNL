{
 "cells": [
  {
   "cell_type": "code",
   "execution_count": 1,
   "id": "889a126f",
   "metadata": {},
   "outputs": [],
   "source": [
    "import numpy as np\n"
   ]
  },
  {
   "cell_type": "code",
   "execution_count": 2,
   "id": "4a74900b",
   "metadata": {},
   "outputs": [],
   "source": [
    "input_pattern = [[1,1,-1],[1,-1,1],[-1,1,1]]\n",
    "output_pattern = [[1,1],[1,-1],[-1,1]]"
   ]
  },
  {
   "cell_type": "code",
   "execution_count": 3,
   "id": "c806a9cb",
   "metadata": {},
   "outputs": [],
   "source": [
    "def training(input_pattern,output_pattern):\n",
    "    input_size = len(input_pattern[0])\n",
    "    output_size = len(output_pattern[0])\n",
    "    weight_matrix = np.zeros((output_size,input_size))\n",
    "    \n",
    "    for i in range(len(input_pattern)):\n",
    "        X = np.array(input_pattern[i])\n",
    "        Y = np.array(output_pattern[i])\n",
    "        weight_matrix += np.outer(Y,X)\n",
    "    return weight_matrix"
   ]
  },
  {
   "cell_type": "code",
   "execution_count": 8,
   "id": "d9fc991c",
   "metadata": {},
   "outputs": [],
   "source": [
    "def recall_output(trained_weight,input_pattern):\n",
    "    input_pattern = np.array(input_pattern)\n",
    "    output_size = trained_weight.shape[0]\n",
    "    output_pattern = np.zeros(output_size)\n",
    "    \n",
    "    for i in range(output_size):\n",
    "        activation = np.dot(trained_weight[i,:] , input_pattern)\n",
    "        output_pattern[i] = np.sign(activation)\n",
    "        \n",
    "    return output_pattern\n",
    "    "
   ]
  },
  {
   "cell_type": "code",
   "execution_count": 9,
   "id": "5cc3bade",
   "metadata": {},
   "outputs": [],
   "source": [
    "def recall_input(trained_weight,output_pattern):\n",
    "    output_pattern = np.array(output_pattern)\n",
    "    input_size = trained_weight.shape[1]\n",
    "    input_pattern = np.zeros(input_size)\n",
    "    \n",
    "    for i in range(input_size):\n",
    "        activation = np.sum(trained_weight[:,i]*output_pattern)\n",
    "        #input_pattern[i] = np.sign(activation)\n",
    "        \n",
    "        if(activation>=0):\n",
    "            input_pattern[i]=1\n",
    "        elif(activation<0):\n",
    "            input_pattern[i]=-1\n",
    "        \n",
    "    return input_pattern"
   ]
  },
  {
   "cell_type": "code",
   "execution_count": 10,
   "id": "5af6674a",
   "metadata": {},
   "outputs": [
    {
     "data": {
      "text/plain": [
       "array([[ 3., -1., -1.],\n",
       "       [-1.,  3., -1.]])"
      ]
     },
     "execution_count": 10,
     "metadata": {},
     "output_type": "execute_result"
    }
   ],
   "source": [
    "trained_weight = training(input_pattern,output_pattern)\n",
    "trained_weight"
   ]
  },
  {
   "cell_type": "code",
   "execution_count": 11,
   "id": "d01bcce6",
   "metadata": {},
   "outputs": [
    {
     "data": {
      "text/plain": [
       "array([ 1., -1.])"
      ]
     },
     "execution_count": 11,
     "metadata": {},
     "output_type": "execute_result"
    }
   ],
   "source": [
    "recall_output(trained_weight,[1,-1,1])"
   ]
  },
  {
   "cell_type": "code",
   "execution_count": 45,
   "id": "c7eaccdc",
   "metadata": {},
   "outputs": [
    {
     "data": {
      "text/plain": [
       "array([-1.,  1.])"
      ]
     },
     "execution_count": 45,
     "metadata": {},
     "output_type": "execute_result"
    }
   ],
   "source": [
    "recall_output(trained_weight,[-1,1,1])"
   ]
  },
  {
   "cell_type": "code",
   "execution_count": 46,
   "id": "ec28fdf8",
   "metadata": {},
   "outputs": [
    {
     "data": {
      "text/plain": [
       "array([1., 1.])"
      ]
     },
     "execution_count": 46,
     "metadata": {},
     "output_type": "execute_result"
    }
   ],
   "source": [
    "recall_output(trained_weight,[1,1,-1])"
   ]
  },
  {
   "cell_type": "code",
   "execution_count": 47,
   "id": "20cac812",
   "metadata": {},
   "outputs": [
    {
     "data": {
      "text/plain": [
       "array([ 1., -1.,  1.])"
      ]
     },
     "execution_count": 47,
     "metadata": {},
     "output_type": "execute_result"
    }
   ],
   "source": [
    "recall_input(trained_weight,[1,-1])"
   ]
  },
  {
   "cell_type": "code",
   "execution_count": 48,
   "id": "3c5a85f5",
   "metadata": {},
   "outputs": [
    {
     "data": {
      "text/plain": [
       "array([ 1.,  1., -1.])"
      ]
     },
     "execution_count": 48,
     "metadata": {},
     "output_type": "execute_result"
    }
   ],
   "source": [
    "recall_input(trained_weight,[1,1])"
   ]
  },
  {
   "cell_type": "code",
   "execution_count": 49,
   "id": "935e0080",
   "metadata": {},
   "outputs": [
    {
     "data": {
      "text/plain": [
       "array([-1.,  1.,  1.])"
      ]
     },
     "execution_count": 49,
     "metadata": {},
     "output_type": "execute_result"
    }
   ],
   "source": [
    "recall_input(trained_weight,[-1,1])"
   ]
  },
  {
   "cell_type": "code",
   "execution_count": null,
   "id": "6d69b26b",
   "metadata": {},
   "outputs": [],
   "source": []
  }
 ],
 "metadata": {
  "kernelspec": {
   "display_name": "Python 3 (ipykernel)",
   "language": "python",
   "name": "python3"
  },
  "language_info": {
   "codemirror_mode": {
    "name": "ipython",
    "version": 3
   },
   "file_extension": ".py",
   "mimetype": "text/x-python",
   "name": "python",
   "nbconvert_exporter": "python",
   "pygments_lexer": "ipython3",
   "version": "3.10.9"
  }
 },
 "nbformat": 4,
 "nbformat_minor": 5
}
