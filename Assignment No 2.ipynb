{
 "cells": [
  {
   "cell_type": "markdown",
   "id": "c0891722",
   "metadata": {},
   "source": [
    "# Assignment No 2\n",
    "## Name :- Gadade Akash"
   ]
  },
  {
   "cell_type": "code",
   "execution_count": 7,
   "id": "6138d796",
   "metadata": {},
   "outputs": [
    {
     "data": {
      "text/html": [
       "<img src=\"diagram.png\"/>"
      ],
      "text/plain": [
       "<IPython.core.display.Image object>"
      ]
     },
     "execution_count": 7,
     "metadata": {},
     "output_type": "execute_result"
    }
   ],
   "source": [
    "import numpy as np\n",
    "import pandas as pd\n",
    "\n",
    "from IPython.display import Image\n",
    "Image(url='diagram.png')"
   ]
  },
  {
   "cell_type": "code",
   "execution_count": 15,
   "id": "6c52b1c9",
   "metadata": {},
   "outputs": [],
   "source": [
    "def activation(sum):\n",
    "    if sum>0:\n",
    "        return 1\n",
    "    else:\n",
    "        return 0"
   ]
  },
  {
   "cell_type": "code",
   "execution_count": 18,
   "id": "e181a113",
   "metadata": {},
   "outputs": [],
   "source": [
    "def mcculloch(input,weight):\n",
    "    sum = np.dot(input,weight)\n",
    "    \n",
    "    yout = activation(sum)\n",
    "    \n",
    "    return yout\n",
    "    "
   ]
  },
  {
   "cell_type": "code",
   "execution_count": 19,
   "id": "93cfb79a",
   "metadata": {},
   "outputs": [
    {
     "name": "stdout",
     "output_type": "stream",
     "text": [
      "[0 1]  output is 0\n",
      "[1 0]  output is 1\n",
      "[1 1]  output is 0\n",
      "[0 0]  output is 0\n"
     ]
    }
   ],
   "source": [
    "x = np.array([[0,1],[1,0],[1,1],[0,0]])\n",
    "w = np.array([1,-1])\n",
    "\n",
    "for i in x:\n",
    "    print(i,\" output is\",mcculloch(i,w))"
   ]
  },
  {
   "cell_type": "markdown",
   "id": "426ed693",
   "metadata": {},
   "source": [
    "# OR Gate"
   ]
  },
  {
   "cell_type": "code",
   "execution_count": 24,
   "id": "01cfc363",
   "metadata": {},
   "outputs": [],
   "source": [
    "def activation(sum):\n",
    "    if sum>0:\n",
    "        return 1\n",
    "    else:\n",
    "        return 0\n",
    "    \n",
    "def mcculloch(input,weight):\n",
    "    sum = np.dot(input,weight)\n",
    "    \n",
    "    yout = activation(sum)\n",
    "    \n",
    "    return yout"
   ]
  },
  {
   "cell_type": "code",
   "execution_count": 25,
   "id": "7a22cf3d",
   "metadata": {},
   "outputs": [
    {
     "name": "stdout",
     "output_type": "stream",
     "text": [
      "[0 1]  output is 1\n",
      "[1 0]  output is 1\n",
      "[1 1]  output is 1\n",
      "[0 0]  output is 0\n"
     ]
    }
   ],
   "source": [
    "x = np.array([[0,1],[1,0],[1,1],[0,0]])\n",
    "w = np.array([1,1])\n",
    "\n",
    "for i in x:\n",
    "    print(i,\" output is\",mcculloch(i,w))"
   ]
  },
  {
   "cell_type": "markdown",
   "id": "78fbb3dd",
   "metadata": {},
   "source": [
    "# AND Gate"
   ]
  },
  {
   "cell_type": "code",
   "execution_count": 26,
   "id": "e01b3e5e",
   "metadata": {},
   "outputs": [],
   "source": [
    "def activation(sum):\n",
    "    if sum>=2:\n",
    "        return 1\n",
    "    else:\n",
    "        return 0\n",
    "    \n",
    "def mcculloch(input,weight):\n",
    "    sum = np.dot(input,weight)\n",
    "    \n",
    "    yout = activation(sum)\n",
    "    \n",
    "    return yout\n"
   ]
  },
  {
   "cell_type": "code",
   "execution_count": 27,
   "id": "fb2ba995",
   "metadata": {},
   "outputs": [
    {
     "name": "stdout",
     "output_type": "stream",
     "text": [
      "[0 1]  output is 0\n",
      "[1 0]  output is 0\n",
      "[1 1]  output is 1\n",
      "[0 0]  output is 0\n"
     ]
    }
   ],
   "source": [
    "x = np.array([[0,1],[1,0],[1,1],[0,0]])\n",
    "w = np.array([1,1])\n",
    "\n",
    "for i in x:\n",
    "    print(i,\" output is\",mcculloch(i,w))"
   ]
  },
  {
   "cell_type": "markdown",
   "id": "18e76e40",
   "metadata": {},
   "source": [
    "# Universal Code to Implement Every Gate"
   ]
  },
  {
   "cell_type": "code",
   "execution_count": 56,
   "id": "062c3397",
   "metadata": {},
   "outputs": [],
   "source": [
    "def activation(sum,t):\n",
    "    if sum>=t:\n",
    "        return 1\n",
    "    else:\n",
    "        return 0\n",
    "    \n",
    "def mcculloch(input,weight,t):\n",
    "    sum = np.dot(input,weight)\n",
    "  \n",
    "    yout = activation(sum,t)\n",
    "    \n",
    "    return yout\n"
   ]
  },
  {
   "cell_type": "markdown",
   "id": "28022d4d",
   "metadata": {},
   "source": [
    "## ANDNOT gate"
   ]
  },
  {
   "cell_type": "code",
   "execution_count": 57,
   "id": "48b193de",
   "metadata": {},
   "outputs": [
    {
     "name": "stdout",
     "output_type": "stream",
     "text": [
      "[0 1]  output is 0\n",
      "[1 0]  output is 1\n",
      "[1 1]  output is 0\n",
      "[0 0]  output is 0\n"
     ]
    }
   ],
   "source": [
    "\n",
    "x = np.array([[0,1],[1,0],[1,1],[0,0]])\n",
    "w = np.array([1,-1])\n",
    "threshold = 1\n",
    "\n",
    "for i in x:\n",
    "    print(i,\" output is\",mcculloch(i,w,threshold))"
   ]
  },
  {
   "cell_type": "markdown",
   "id": "9370b52b",
   "metadata": {},
   "source": [
    "## AND Gate"
   ]
  },
  {
   "cell_type": "code",
   "execution_count": 58,
   "id": "4e609fca",
   "metadata": {},
   "outputs": [
    {
     "name": "stdout",
     "output_type": "stream",
     "text": [
      "[0 1]  output is 0\n",
      "[1 0]  output is 0\n",
      "[1 1]  output is 1\n",
      "[0 0]  output is 0\n"
     ]
    }
   ],
   "source": [
    "x = np.array([[0,1],[1,0],[1,1],[0,0]])\n",
    "w = np.array([1,1])\n",
    "threshold = 2\n",
    "\n",
    "for i in x:\n",
    "    print(i,\" output is\",mcculloch(i,w,threshold))"
   ]
  },
  {
   "cell_type": "markdown",
   "id": "5858c587",
   "metadata": {},
   "source": [
    "## OR Gate"
   ]
  },
  {
   "cell_type": "code",
   "execution_count": 59,
   "id": "0cd700e7",
   "metadata": {},
   "outputs": [
    {
     "name": "stdout",
     "output_type": "stream",
     "text": [
      "[0 1]  output is 1\n",
      "[1 0]  output is 1\n",
      "[1 1]  output is 1\n",
      "[0 0]  output is 0\n"
     ]
    }
   ],
   "source": [
    "x = np.array([[0,1],[1,0],[1,1],[0,0]])\n",
    "w = np.array([1,1])\n",
    "threshold = 1\n",
    "\n",
    "for i in x:\n",
    "    print(i,\" output is\",mcculloch(i,w,threshold))"
   ]
  },
  {
   "cell_type": "code",
   "execution_count": null,
   "id": "e16fd984",
   "metadata": {},
   "outputs": [],
   "source": []
  }
 ],
 "metadata": {
  "kernelspec": {
   "display_name": "Python 3 (ipykernel)",
   "language": "python",
   "name": "python3"
  },
  "language_info": {
   "codemirror_mode": {
    "name": "ipython",
    "version": 3
   },
   "file_extension": ".py",
   "mimetype": "text/x-python",
   "name": "python",
   "nbconvert_exporter": "python",
   "pygments_lexer": "ipython3",
   "version": "3.10.9"
  }
 },
 "nbformat": 4,
 "nbformat_minor": 5
}
