{
 "cells": [
  {
   "cell_type": "code",
   "execution_count": 1,
   "id": "bf00e081",
   "metadata": {},
   "outputs": [],
   "source": [
    "import numpy as np\n",
    "import pandas as pd\n",
    "from math  import exp"
   ]
  },
  {
   "cell_type": "markdown",
   "id": "57c55ccd",
   "metadata": {},
   "source": [
    "# ART 1 Neural Network"
   ]
  },
  {
   "cell_type": "code",
   "execution_count": 2,
   "id": "4694db7b",
   "metadata": {},
   "outputs": [],
   "source": [
    "VP = 0.7\n",
    "LR  = 2\n",
    "\n",
    "n = 4\n",
    "m = 3"
   ]
  },
  {
   "cell_type": "code",
   "execution_count": 3,
   "id": "22454881",
   "metadata": {},
   "outputs": [
    {
     "name": "stdout",
     "output_type": "stream",
     "text": [
      "[[0.2, 0.2, 0.2], [0.2, 0.2, 0.2], [0.2, 0.2, 0.2], [0.2, 0.2, 0.2]]\n"
     ]
    }
   ],
   "source": [
    "b = [[1/(1+n) for  i in range(m)] for j in range(n)]\n",
    "#b = [[0.2, 0.5, 0.9], [0.6, 0.2, 0.5], [0.1, 0.4, 0.7], [0.8, 0.4, 0.2]]\n",
    "print(b)"
   ]
  },
  {
   "cell_type": "code",
   "execution_count": 4,
   "id": "f45bb97a",
   "metadata": {},
   "outputs": [
    {
     "name": "stdout",
     "output_type": "stream",
     "text": [
      "[[1, 1, 1, 1], [1, 1, 1, 1], [1, 1, 1, 1]]\n"
     ]
    }
   ],
   "source": [
    "t = [[1 for i in range(n)] for i in range(m)]\n",
    "print(t)"
   ]
  },
  {
   "cell_type": "code",
   "execution_count": 5,
   "id": "e30a3a26",
   "metadata": {},
   "outputs": [],
   "source": [
    "def network(input):\n",
    "    \n",
    "    for m in range(4):\n",
    "        s = input\n",
    "        ss = sum(s)\n",
    "        xx = sum(input)\n",
    "    \n",
    "        y1 = b[0][0]*input[0] + b[1][0]*input[1] + b[2][0]*input[2] + b[3][0]*input[3]\n",
    "        y2 = b[0][1]*input[0] + b[1][1]*input[1] + b[2][1]*input[2] + b[3][1]*input[3]\n",
    "        y3 = b[0][2]*input[0] + b[1][2]*input[1] + b[2][2]*input[2] + b[3][2]*input[3]\n",
    "    \n",
    "        j=0\n",
    "        if(y1 > y2 and y1>=y3):\n",
    "            j=0\n",
    "        elif(y2 > y1 and y2>=y3):\n",
    "            j=1  \n",
    "        elif(y3 > y2 and y3>=y1):\n",
    "            j=2\n",
    "        elif(y1==y2 and y2==y3):\n",
    "            j=0\n",
    "    \n",
    "        xi = []\n",
    "        for i in range(len(s)):\n",
    "            xi.append(s[i]*t[j][i])\n",
    "    \n",
    "        xxx =  sum(xi)\n",
    "    \n",
    "        if(xxx/ss > VP):\n",
    "            b[0][j] = (LR*xi[0])/(LR-1+xxx)\n",
    "            b[1][j] = (LR*xi[1])/(LR-1+xxx)\n",
    "            b[2][j] = (LR*xi[2])/(LR-1+xxx)\n",
    "            b[3][j] = (LR*xi[3])/(LR-1+xxx)\n",
    "        \n",
    "            t[j][0] = b[0][j]\n",
    "            t[j][1] = b[1][j]\n",
    "            t[j][2] = b[2][j]\n",
    "            t[j][3] = b[3][j]\n",
    "    \n",
    "    return j\n",
    "        "
   ]
  },
  {
   "cell_type": "code",
   "execution_count": 6,
   "id": "0b809a00",
   "metadata": {},
   "outputs": [],
   "source": [
    "def test(input):\n",
    "    s = input\n",
    "    ss = sum(s)\n",
    "    xx = sum(input)\n",
    "    \n",
    "    y1 = b[0][0]*input[0] + b[1][0]*input[1] + b[2][0]*input[2] + b[3][0]*input[3]\n",
    "    y2 = b[0][1]*input[0] + b[1][1]*input[1] + b[2][1]*input[2] + b[3][1]*input[3]\n",
    "    y3 = b[0][2]*input[0] + b[1][2]*input[1] + b[2][2]*input[2] + b[3][2]*input[3]\n",
    "    \n",
    "    j = 0\n",
    "    if(y1 > y2 and y1>y3):\n",
    "            j=0\n",
    "    elif(y2 > y1 and y2>y3):\n",
    "            j=1  \n",
    "    elif(y3 > y2 and y3>y1):\n",
    "            j=2\n",
    "    elif(y1==y2 and y2==y3):\n",
    "            j=0\n",
    "        \n",
    "    return j\n",
    "    "
   ]
  },
  {
   "cell_type": "code",
   "execution_count": 7,
   "id": "18422c42",
   "metadata": {},
   "outputs": [],
   "source": [
    "inputs = [[0,0,0,1],[0,0,1,0],[0,0,1,1],[0,1,0,0],[0,1,0,1],[0,1,1,0],[0,1,1,1],[1,0,0,0],[1,0,0,1],[1,0,1,0]]"
   ]
  },
  {
   "cell_type": "code",
   "execution_count": 8,
   "id": "f3630482",
   "metadata": {},
   "outputs": [],
   "source": [
    "#inputs = [[0,0,1,1],[0,0,1,0],[1,0,0,1],[0,1,0,0],[1,0,1,0],[0,1,0,1],[0,1,1,0],[0,1,1,1],[1,0,0,0],[0,0,0,1]]\n",
    "\n",
    "#inputs = [[1,0,1,0],[1,1,1,0],[0,0,0,1],[0,0,0,1],[0,1,0,1],[1,0,0,1]]"
   ]
  },
  {
   "cell_type": "code",
   "execution_count": 9,
   "id": "40dd3a66",
   "metadata": {},
   "outputs": [
    {
     "name": "stdout",
     "output_type": "stream",
     "text": [
      "0\n",
      "1\n",
      "0\n",
      "2\n",
      "0\n",
      "1\n",
      "0\n",
      "0\n",
      "0\n",
      "1\n"
     ]
    }
   ],
   "source": [
    "for i in inputs:\n",
    "    print(network(i))\n",
    "    \n",
    "    "
   ]
  },
  {
   "cell_type": "code",
   "execution_count": 10,
   "id": "9cf2b5d1",
   "metadata": {},
   "outputs": [
    {
     "name": "stdout",
     "output_type": "stream",
     "text": [
      "1\n",
      "0\n",
      "0\n",
      "0\n",
      "0\n",
      "0\n"
     ]
    }
   ],
   "source": [
    "testing = [[1,0,1,0],[1,1,1,0],[0,0,0,1],[0,0,0,1],[0,1,0,1],[1,0,0,1]]\n",
    "\n",
    "for i in testing:\n",
    "    print(test(i))"
   ]
  },
  {
   "cell_type": "code",
   "execution_count": 41,
   "id": "2107acc1",
   "metadata": {},
   "outputs": [
    {
     "data": {
      "text/plain": [
       "0"
      ]
     },
     "execution_count": 41,
     "metadata": {},
     "output_type": "execute_result"
    }
   ],
   "source": [
    "test([1,1,0,0])"
   ]
  },
  {
   "cell_type": "code",
   "execution_count": 11,
   "id": "0af23007",
   "metadata": {},
   "outputs": [
    {
     "data": {
      "text/plain": [
       "[[0.0, 0.0, 0.0], [0.0, 0.0, 1.0], [0.0, 1.0, 0.0], [1.0, 0.0, 0.0]]"
      ]
     },
     "execution_count": 11,
     "metadata": {},
     "output_type": "execute_result"
    }
   ],
   "source": [
    "b\n"
   ]
  },
  {
   "cell_type": "code",
   "execution_count": 12,
   "id": "a2c19ed8",
   "metadata": {},
   "outputs": [
    {
     "data": {
      "text/plain": [
       "[[0.0, 0.0, 0.0, 1.0], [0.0, 0.0, 1.0, 0.0], [0.0, 1.0, 0.0, 0.0]]"
      ]
     },
     "execution_count": 12,
     "metadata": {},
     "output_type": "execute_result"
    }
   ],
   "source": [
    "t"
   ]
  },
  {
   "cell_type": "code",
   "execution_count": null,
   "id": "99deb8c4",
   "metadata": {},
   "outputs": [],
   "source": []
  },
  {
   "cell_type": "code",
   "execution_count": null,
   "id": "54a246c2",
   "metadata": {},
   "outputs": [],
   "source": []
  }
 ],
 "metadata": {
  "celltoolbar": "Raw Cell Format",
  "kernelspec": {
   "display_name": "Python 3 (ipykernel)",
   "language": "python",
   "name": "python3"
  },
  "language_info": {
   "codemirror_mode": {
    "name": "ipython",
    "version": 3
   },
   "file_extension": ".py",
   "mimetype": "text/x-python",
   "name": "python",
   "nbconvert_exporter": "python",
   "pygments_lexer": "ipython3",
   "version": "3.10.9"
  }
 },
 "nbformat": 4,
 "nbformat_minor": 5
}
