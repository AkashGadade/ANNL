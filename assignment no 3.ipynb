{
 "cells": [
  {
   "cell_type": "markdown",
   "id": "b846bc51",
   "metadata": {},
   "source": [
    "# Assignment No 3 "
   ]
  },
  {
   "cell_type": "code",
   "execution_count": 7,
   "id": "68573af9",
   "metadata": {},
   "outputs": [],
   "source": [
    "import numpy as np"
   ]
  },
  {
   "cell_type": "code",
   "execution_count": 8,
   "id": "9a30b290",
   "metadata": {},
   "outputs": [],
   "source": [
    "def convertbinary(num):\n",
    "    binary = bin(num)[2:].zfill(8)\n",
    "    binaryarray = np.array([int(binary[i]) for i in range(8)])\n",
    "    return binaryarray"
   ]
  },
  {
   "cell_type": "code",
   "execution_count": 9,
   "id": "39ab3aa6",
   "metadata": {},
   "outputs": [],
   "source": [
    "def predict(inputs, weights):\n",
    "    aggrigation = np.dot(inputs,weights[1:]) + weights[0]\n",
    "    \n",
    "    if aggrigation >= 0:\n",
    "        return 1\n",
    "    else:\n",
    "        return 0\n",
    "    "
   ]
  },
  {
   "cell_type": "code",
   "execution_count": 10,
   "id": "3f68f6a3",
   "metadata": {},
   "outputs": [],
   "source": [
    "def training(inputs , outputs , epochs):\n",
    "    num_inputs = inputs.shape[1]\n",
    "    weights = np.zeros(num_inputs +1)\n",
    "    \n",
    "    \n",
    "    for i in range(epochs):\n",
    "        for inp , out in zip(inputs,outputs):\n",
    "            prediction = predict(inp,weights)\n",
    "            error = out - prediction\n",
    "            weights[1:] += error * inp\n",
    "            weights[0] += error\n",
    "            \n",
    "    return weights\n",
    "    "
   ]
  },
  {
   "cell_type": "code",
   "execution_count": 11,
   "id": "0ab5a12f",
   "metadata": {},
   "outputs": [],
   "source": [
    "x = np.array([convertbinary(n) for n in range(20)])\n",
    "y = np.array([n%2 for n in range(20)])\n",
    "\n",
    "trained_weights = training(x,y,100)"
   ]
  },
  {
   "cell_type": "code",
   "execution_count": 12,
   "id": "b31651d0",
   "metadata": {},
   "outputs": [
    {
     "data": {
      "text/plain": [
       "1"
      ]
     },
     "execution_count": 12,
     "metadata": {},
     "output_type": "execute_result"
    }
   ],
   "source": [
    "predict([0,0,0,0,0,1,0,1],trained_weights)"
   ]
  },
  {
   "cell_type": "code",
   "execution_count": 13,
   "id": "4a71e9a7",
   "metadata": {},
   "outputs": [
    {
     "data": {
      "text/plain": [
       "0"
      ]
     },
     "execution_count": 13,
     "metadata": {},
     "output_type": "execute_result"
    }
   ],
   "source": [
    "predict([0,0,0,0,0,1,0,0],trained_weights)"
   ]
  },
  {
   "cell_type": "code",
   "execution_count": null,
   "id": "2d3b3606",
   "metadata": {},
   "outputs": [],
   "source": []
  }
 ],
 "metadata": {
  "kernelspec": {
   "display_name": "Python 3 (ipykernel)",
   "language": "python",
   "name": "python3"
  },
  "language_info": {
   "codemirror_mode": {
    "name": "ipython",
    "version": 3
   },
   "file_extension": ".py",
   "mimetype": "text/x-python",
   "name": "python",
   "nbconvert_exporter": "python",
   "pygments_lexer": "ipython3",
   "version": "3.10.9"
  }
 },
 "nbformat": 4,
 "nbformat_minor": 5
}
